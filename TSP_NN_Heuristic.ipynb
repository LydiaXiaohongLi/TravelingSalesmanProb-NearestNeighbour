{
 "cells": [
  {
   "cell_type": "code",
   "execution_count": 135,
   "metadata": {},
   "outputs": [],
   "source": [
    "import math\n",
    "import heapq\n",
    "import copy\n",
    "node_raw=[]\n",
    "with open(r'Data\\nn.txt','r') as f:\n",
    "    node_raw=f.readlines()\n",
    "node = [(int(x.split()[0]),float(x.split()[1]),float(x.split()[2])) for x in node_raw[1:]]\n",
    "#Method 1, leverage the city list with sorting over x cooridnate (if not, can sort on O(n*logn))\n",
    "#nearest neighbour algo. \n",
    "#step1, with any city as starting city\n",
    "#step2, find the nearest neighbour to the starting city, add the nearest neighbour to the tour\n",
    "#step3, repeat above step, find the nearest neighbour to the newly added city\n",
    "class TSP_NN(object):\n",
    "    def __init__(self, node):\n",
    "        #sort the node list by x coordinate\n",
    "        self.node = copy.deepcopy(node)\n",
    "        self.node.sort(key=lambda tup: (tup[1], tup[0]))\n",
    "\n",
    "    def find_nearest_city(self, current_city):\n",
    "        tmp_min=''\n",
    "        tmp_city=current_city\n",
    "        if current_city != len(self.node)-1:\n",
    "            for i in range(current_city+1, len(self.node)):\n",
    "                if self.node[i][0] not in self.tour_dict:\n",
    "                    if tmp_min=='':\n",
    "                        tmp_distance=math.sqrt((self.node[i][1]-self.node[current_city][1])**2+(self.node[i][2]-self.node[current_city][2])**2)\n",
    "                        tmp_min=tmp_distance\n",
    "                        tmp_city=i\n",
    "                    else:\n",
    "                        if self.node[i][1]-self.node[current_city][1] > tmp_min:\n",
    "                            break\n",
    "                        else:\n",
    "                            tmp_distance=math.sqrt((self.node[i][1]-self.node[current_city][1])**2+(self.node[i][2]-self.node[current_city][2])**2)\n",
    "                            if ((tmp_min == tmp_distance) & (self.node[i][0]<self.node[tmp_city][0])) | (tmp_min > tmp_distance):\n",
    "                                tmp_min=tmp_distance\n",
    "                                tmp_city=i\n",
    "        for i in reversed(range(current_city)):\n",
    "            if self.node[i][0] not in self.tour_dict:\n",
    "                if tmp_min=='':\n",
    "                    tmp_distance=math.sqrt((self.node[i][1]-self.node[current_city][1])**2+(self.node[i][2]-self.node[current_city][2])**2)\n",
    "                    tmp_min=tmp_distance\n",
    "                    tmp_city=i\n",
    "                else:\n",
    "                    if self.node[i][1]-self.node[current_city][1] > tmp_min:\n",
    "                        break\n",
    "                    else:\n",
    "                        tmp_distance=math.sqrt((self.node[i][1]-self.node[current_city][1])**2+(self.node[i][2]-self.node[current_city][2])**2)\n",
    "                        if ((tmp_min == tmp_distance) & (self.node[i][0]<self.node[tmp_city][0])) | (tmp_min > tmp_distance):\n",
    "                            tmp_min=tmp_distance\n",
    "                            tmp_city=i\n",
    "        self.tour_dict[self.node[tmp_city][0]]=len(self.tour_dict)+1\n",
    "        self.tour_cost=self.tour_cost+tmp_min\n",
    "        return tmp_city\n",
    "        \n",
    "    def tsp_nn(self):\n",
    "        for i in range(len(self.node)-1):\n",
    "            if i==0:\n",
    "                #initialize the starting city\n",
    "                start_city_index={self.node[i][0]:i for i in range(len(self.node))}[1]\n",
    "                self.tour_dict={self.node[start_city_index][0]:1}\n",
    "                self.tour_cost=0\n",
    "                current_city_index=self.find_nearest_city(start_city_index)\n",
    "            else:\n",
    "                current_city_index=self.find_nearest_city(current_city_index)\n",
    "        self.tour_cost=self.tour_cost+math.sqrt((self.node[start_city_index][1]-self.node[current_city_index][1])**2+(self.node[start_city_index][2]-self.node[current_city_index][2])**2)"
   ]
  },
  {
   "cell_type": "code",
   "execution_count": 136,
   "metadata": {},
   "outputs": [
    {
     "data": {
      "text/plain": [
       "2506548.0656558434"
      ]
     },
     "execution_count": 136,
     "metadata": {},
     "output_type": "execute_result"
    }
   ],
   "source": [
    "tsp=TSP_NN(node)\n",
    "tsp.tsp_nn()\n",
    "tsp.tour_cost"
   ]
  },
  {
   "cell_type": "code",
   "execution_count": 2,
   "metadata": {},
   "outputs": [],
   "source": [
    "import math\n",
    "import heapq\n",
    "node_raw=[]\n",
    "with open(r'Data\\nn.txt','r') as f:\n",
    "    node_raw=f.readlines()\n",
    "node = [(x.split()[0],float(x.split()[1]),float(x.split()[2])) for x in node_raw[1:]]\n",
    "\n",
    "#Method 2, using heap structure\n",
    "#Calculate all pair node direct distance, efficiency O(n*n)\n",
    "edge_list=[[(math.sqrt((node[i][1]-node[j][1])*(node[i][1]-node[j][1])+(node[i][2]-node[j][2])*(node[i][2]-node[j][2])), j) for j in range(len(node))] for i in range(len(node))]\n",
    "#For each node, heapify the direct node distance, efficiency O(n*n)\n",
    "for i in range(len(node)-1):\n",
    "    heapq.heapify(edge_list[i])\n",
    "#nearest neighbour algo. \n",
    "for i in range(len(node)):\n",
    "    if i==0:\n",
    "        #initialize the starting city\n",
    "        tour_dict={0:1}\n",
    "        tour_cost=0\n",
    "        current_city=0\n",
    "    else:\n",
    "        popped_city=heapq.heappop(edge_list[current_city])\n",
    "        while popped_city[1] in tour_dict:\n",
    "            popped_city=heapq.heappop(edge_list[current_city])\n",
    "        tour_dict[popped_city[1]]=len(tour_dict)+1\n",
    "        tour_cost=tour_cost+popped_city[0]\n",
    "        current_city=popped_city[1]\n",
    "#complete the tour by going back to the original starting city\n",
    "tour_cost=tour_cost+math.sqrt((node[0][1]-node[current_city][1])*(node[0][1]-node[current_city][1])+(node[0][2]-node[current_city][2])*(node[0][2]-node[current_city][2]))\n"
   ]
  },
  {
   "cell_type": "code",
   "execution_count": 3,
   "metadata": {},
   "outputs": [
    {
     "data": {
      "text/plain": [
       "15"
      ]
     },
     "execution_count": 3,
     "metadata": {},
     "output_type": "execute_result"
    }
   ],
   "source": [
    "math.floor(tour_cost)"
   ]
  },
  {
   "cell_type": "code",
   "execution_count": null,
   "metadata": {},
   "outputs": [],
   "source": [
    "#Tested"
   ]
  }
 ],
 "metadata": {
  "kernelspec": {
   "display_name": "Python 3",
   "language": "python",
   "name": "python3"
  },
  "language_info": {
   "codemirror_mode": {
    "name": "ipython",
    "version": 3
   },
   "file_extension": ".py",
   "mimetype": "text/x-python",
   "name": "python",
   "nbconvert_exporter": "python",
   "pygments_lexer": "ipython3",
   "version": "3.6.4"
  }
 },
 "nbformat": 4,
 "nbformat_minor": 2
}
